{
 "cells": [
  {
   "cell_type": "code",
   "execution_count": 1,
   "metadata": {},
   "outputs": [],
   "source": [
    "import torch.nn as nn\n",
    "import torch.optim as optim\n",
    "\n",
    "from utils.data import get_dataloaders\n",
    "from utils.train import train, test, get_device, set_seed\n",
    "from utils.vis import get_predictions_examples\n",
    "from model.CNN import CNN\n"
   ]
  },
  {
   "cell_type": "code",
   "execution_count": 2,
   "metadata": {},
   "outputs": [
    {
     "data": {
      "text/plain": [
       "device(type='mps')"
      ]
     },
     "execution_count": 2,
     "metadata": {},
     "output_type": "execute_result"
    }
   ],
   "source": [
    "get_device()"
   ]
  },
  {
   "cell_type": "code",
   "execution_count": 3,
   "metadata": {},
   "outputs": [
    {
     "data": {
      "text/plain": [
       "42"
      ]
     },
     "execution_count": 3,
     "metadata": {},
     "output_type": "execute_result"
    }
   ],
   "source": [
    "set_seed(42)"
   ]
  },
  {
   "cell_type": "code",
   "execution_count": 4,
   "metadata": {},
   "outputs": [
    {
     "data": {
      "text/plain": [
       "(938, 40)"
      ]
     },
     "execution_count": 4,
     "metadata": {},
     "output_type": "execute_result"
    }
   ],
   "source": [
    "train_loader, test_loader = get_dataloaders()\n",
    "len(train_loader), len(test_loader)"
   ]
  },
  {
   "cell_type": "code",
   "execution_count": 5,
   "metadata": {},
   "outputs": [
    {
     "data": {
      "text/plain": [
       "CNN(\n",
       "  (conv1): Conv2d(1, 32, kernel_size=(3, 3), stride=(1, 1), padding=(1, 1))\n",
       "  (relu1): ReLU()\n",
       "  (pool1): MaxPool2d(kernel_size=2, stride=2, padding=0, dilation=1, ceil_mode=False)\n",
       "  (conv2): Conv2d(32, 64, kernel_size=(3, 3), stride=(1, 1), padding=(1, 1))\n",
       "  (relu2): ReLU()\n",
       "  (pool2): MaxPool2d(kernel_size=2, stride=2, padding=0, dilation=1, ceil_mode=False)\n",
       "  (fc1): Linear(in_features=3136, out_features=128, bias=True)\n",
       "  (relu3): ReLU()\n",
       "  (fc2): Linear(in_features=128, out_features=10, bias=True)\n",
       ")"
      ]
     },
     "execution_count": 5,
     "metadata": {},
     "output_type": "execute_result"
    }
   ],
   "source": [
    "model = CNN()\n",
    "model"
   ]
  },
  {
   "cell_type": "code",
   "execution_count": 6,
   "metadata": {},
   "outputs": [
    {
     "data": {
      "text/plain": [
       "(CrossEntropyLoss(),\n",
       " Adam (\n",
       " Parameter Group 0\n",
       "     amsgrad: False\n",
       "     betas: (0.9, 0.999)\n",
       "     capturable: False\n",
       "     differentiable: False\n",
       "     eps: 1e-08\n",
       "     foreach: None\n",
       "     fused: None\n",
       "     lr: 0.001\n",
       "     maximize: False\n",
       "     weight_decay: 0\n",
       " ))"
      ]
     },
     "execution_count": 6,
     "metadata": {},
     "output_type": "execute_result"
    }
   ],
   "source": [
    "criterion = nn.CrossEntropyLoss()\n",
    "optimizer = optim.Adam(model.parameters(), lr=0.001)\n",
    "criterion, optimizer"
   ]
  },
  {
   "cell_type": "code",
   "execution_count": 7,
   "metadata": {},
   "outputs": [
    {
     "name": "stdout",
     "output_type": "stream",
     "text": [
      "Epoch [1/10], Step [93/938], Loss: 0.9061\n",
      "Epoch [1/10], Step [186/938], Loss: 0.5375\n",
      "Epoch [1/10], Step [279/938], Loss: 0.4545\n",
      "Epoch [1/10], Step [372/938], Loss: 0.4381\n",
      "Epoch [1/10], Step [465/938], Loss: 0.3927\n",
      "Epoch [1/10], Step [558/938], Loss: 0.3746\n",
      "Epoch [1/10], Step [651/938], Loss: 0.3676\n",
      "Epoch [1/10], Step [744/938], Loss: 0.3230\n",
      "Epoch [1/10], Step [837/938], Loss: 0.3417\n",
      "Epoch [1/10], Step [930/938], Loss: 0.3281\n",
      "Epoch [2/10], Step [93/938], Loss: 0.3153\n",
      "Epoch [2/10], Step [186/938], Loss: 0.2922\n",
      "Epoch [2/10], Step [279/938], Loss: 0.2948\n",
      "Epoch [2/10], Step [372/938], Loss: 0.3176\n",
      "Epoch [2/10], Step [465/938], Loss: 0.2926\n",
      "Epoch [2/10], Step [558/938], Loss: 0.2781\n",
      "Epoch [2/10], Step [651/938], Loss: 0.2731\n",
      "Epoch [2/10], Step [744/938], Loss: 0.2679\n",
      "Epoch [2/10], Step [837/938], Loss: 0.2753\n",
      "Epoch [2/10], Step [930/938], Loss: 0.2635\n",
      "Epoch [3/10], Step [93/938], Loss: 0.2577\n",
      "Epoch [3/10], Step [186/938], Loss: 0.2361\n",
      "Epoch [3/10], Step [279/938], Loss: 0.2361\n",
      "Epoch [3/10], Step [372/938], Loss: 0.2439\n",
      "Epoch [3/10], Step [465/938], Loss: 0.2480\n",
      "Epoch [3/10], Step [558/938], Loss: 0.2394\n",
      "Epoch [3/10], Step [651/938], Loss: 0.2320\n",
      "Epoch [3/10], Step [744/938], Loss: 0.2445\n",
      "Epoch [3/10], Step [837/938], Loss: 0.2352\n",
      "Epoch [3/10], Step [930/938], Loss: 0.2232\n",
      "Epoch [4/10], Step [93/938], Loss: 0.2102\n",
      "Epoch [4/10], Step [186/938], Loss: 0.1943\n",
      "Epoch [4/10], Step [279/938], Loss: 0.2104\n",
      "Epoch [4/10], Step [372/938], Loss: 0.1990\n",
      "Epoch [4/10], Step [465/938], Loss: 0.2160\n",
      "Epoch [4/10], Step [558/938], Loss: 0.2191\n",
      "Epoch [4/10], Step [651/938], Loss: 0.2087\n",
      "Epoch [4/10], Step [744/938], Loss: 0.2137\n",
      "Epoch [4/10], Step [837/938], Loss: 0.2035\n",
      "Epoch [4/10], Step [930/938], Loss: 0.2044\n",
      "Epoch [5/10], Step [93/938], Loss: 0.1823\n",
      "Epoch [5/10], Step [186/938], Loss: 0.1663\n",
      "Epoch [5/10], Step [279/938], Loss: 0.1696\n",
      "Epoch [5/10], Step [372/938], Loss: 0.1769\n",
      "Epoch [5/10], Step [465/938], Loss: 0.1808\n",
      "Epoch [5/10], Step [558/938], Loss: 0.1882\n",
      "Epoch [5/10], Step [651/938], Loss: 0.1891\n",
      "Epoch [5/10], Step [744/938], Loss: 0.1881\n",
      "Epoch [5/10], Step [837/938], Loss: 0.1761\n",
      "Epoch [5/10], Step [930/938], Loss: 0.1905\n",
      "Epoch [6/10], Step [93/938], Loss: 0.1487\n",
      "Epoch [6/10], Step [186/938], Loss: 0.1543\n",
      "Epoch [6/10], Step [279/938], Loss: 0.1500\n",
      "Epoch [6/10], Step [372/938], Loss: 0.1564\n",
      "Epoch [6/10], Step [465/938], Loss: 0.1651\n",
      "Epoch [6/10], Step [558/938], Loss: 0.1550\n",
      "Epoch [6/10], Step [651/938], Loss: 0.1619\n",
      "Epoch [6/10], Step [744/938], Loss: 0.1511\n",
      "Epoch [6/10], Step [837/938], Loss: 0.1649\n",
      "Epoch [6/10], Step [930/938], Loss: 0.1604\n",
      "Epoch [7/10], Step [93/938], Loss: 0.1338\n",
      "Epoch [7/10], Step [186/938], Loss: 0.1442\n",
      "Epoch [7/10], Step [279/938], Loss: 0.1308\n",
      "Epoch [7/10], Step [372/938], Loss: 0.1331\n",
      "Epoch [7/10], Step [465/938], Loss: 0.1345\n",
      "Epoch [7/10], Step [558/938], Loss: 0.1375\n",
      "Epoch [7/10], Step [651/938], Loss: 0.1304\n",
      "Epoch [7/10], Step [744/938], Loss: 0.1411\n",
      "Epoch [7/10], Step [837/938], Loss: 0.1452\n",
      "Epoch [7/10], Step [930/938], Loss: 0.1519\n",
      "Epoch [8/10], Step [93/938], Loss: 0.1138\n",
      "Epoch [8/10], Step [186/938], Loss: 0.1082\n",
      "Epoch [8/10], Step [279/938], Loss: 0.1082\n",
      "Epoch [8/10], Step [372/938], Loss: 0.1112\n",
      "Epoch [8/10], Step [465/938], Loss: 0.1178\n",
      "Epoch [8/10], Step [558/938], Loss: 0.1196\n",
      "Epoch [8/10], Step [651/938], Loss: 0.1154\n",
      "Epoch [8/10], Step [744/938], Loss: 0.1150\n",
      "Epoch [8/10], Step [837/938], Loss: 0.1303\n",
      "Epoch [8/10], Step [930/938], Loss: 0.1345\n",
      "Epoch [9/10], Step [93/938], Loss: 0.0976\n",
      "Epoch [9/10], Step [186/938], Loss: 0.0958\n",
      "Epoch [9/10], Step [279/938], Loss: 0.1019\n",
      "Epoch [9/10], Step [372/938], Loss: 0.1011\n",
      "Epoch [9/10], Step [465/938], Loss: 0.1000\n",
      "Epoch [9/10], Step [558/938], Loss: 0.1034\n",
      "Epoch [9/10], Step [651/938], Loss: 0.1027\n",
      "Epoch [9/10], Step [744/938], Loss: 0.1164\n",
      "Epoch [9/10], Step [837/938], Loss: 0.1017\n",
      "Epoch [9/10], Step [930/938], Loss: 0.1062\n",
      "Epoch [10/10], Step [93/938], Loss: 0.0760\n",
      "Epoch [10/10], Step [186/938], Loss: 0.0802\n",
      "Epoch [10/10], Step [279/938], Loss: 0.0752\n",
      "Epoch [10/10], Step [372/938], Loss: 0.0812\n",
      "Epoch [10/10], Step [465/938], Loss: 0.0883\n",
      "Epoch [10/10], Step [558/938], Loss: 0.0921\n",
      "Epoch [10/10], Step [651/938], Loss: 0.0974\n",
      "Epoch [10/10], Step [744/938], Loss: 0.0888\n",
      "Epoch [10/10], Step [837/938], Loss: 0.0967\n",
      "Epoch [10/10], Step [930/938], Loss: 0.0907\n",
      "Finished Training\n"
     ]
    },
    {
     "data": {
      "text/plain": [
       "(CNN(\n",
       "   (conv1): Conv2d(1, 32, kernel_size=(3, 3), stride=(1, 1), padding=(1, 1))\n",
       "   (relu1): ReLU()\n",
       "   (pool1): MaxPool2d(kernel_size=2, stride=2, padding=0, dilation=1, ceil_mode=False)\n",
       "   (conv2): Conv2d(32, 64, kernel_size=(3, 3), stride=(1, 1), padding=(1, 1))\n",
       "   (relu2): ReLU()\n",
       "   (pool2): MaxPool2d(kernel_size=2, stride=2, padding=0, dilation=1, ceil_mode=False)\n",
       "   (fc1): Linear(in_features=3136, out_features=128, bias=True)\n",
       "   (relu3): ReLU()\n",
       "   (fc2): Linear(in_features=128, out_features=10, bias=True)\n",
       " ),\n",
       " [0.44526301901827237,\n",
       "  0.28662430456897087,\n",
       "  0.23931216415184647,\n",
       "  0.20782637272053944,\n",
       "  0.1802845614126274,\n",
       "  0.15693524216355353,\n",
       "  0.13835128415812817,\n",
       "  0.11730624136052278,\n",
       "  0.10267276787506874,\n",
       "  0.08700206303305781])"
      ]
     },
     "execution_count": 7,
     "metadata": {},
     "output_type": "execute_result"
    }
   ],
   "source": [
    "train(model, train_loader, criterion, optimizer, epochs=10, mixup=False, early_stopping=True)"
   ]
  },
  {
   "cell_type": "code",
   "execution_count": 10,
   "metadata": {},
   "outputs": [
    {
     "name": "stdout",
     "output_type": "stream",
     "text": [
      "Accuracy of the network on the 10000 test images: 92.42%\n",
      "Test Loss: 0.2541\n"
     ]
    },
    {
     "data": {
      "text/plain": [
       "(92.42, 0.254119767062366)"
      ]
     },
     "execution_count": 10,
     "metadata": {},
     "output_type": "execute_result"
    }
   ],
   "source": [
    "test(model, test_loader, criterion)"
   ]
  },
  {
   "cell_type": "code",
   "execution_count": 11,
   "metadata": {},
   "outputs": [
    {
     "data": {
      "image/png": "[encoded data removed]",
      "text/plain": [
       "<Figure size 1800x400 with 6 Axes>"
      ]
     },
     "metadata": {},
     "output_type": "display_data"
    }
   ],
   "source": [
    "get_predictions_examples(model, test_loader)"
   ]
  }
 ],
 "metadata": {
  "kernelspec": {
   "display_name": ".venv",
   "language": "python",
   "name": "python3"
  },
  "language_info": {
   "codemirror_mode": {
    "name": "ipython",
    "version": 3
   },
   "file_extension": ".py",
   "mimetype": "text/x-python",
   "name": "python",
   "nbconvert_exporter": "python",
   "pygments_lexer": "ipython3",
   "version": "3.13.2"
  }
 },
 "nbformat": 4,
 "nbformat_minor": 2
}
