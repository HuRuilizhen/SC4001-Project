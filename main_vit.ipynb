{
  "cells": [
    {
      "cell_type": "code",
      "execution_count": 1,
      "metadata": {
        "colab": {
          "base_uri": "https://localhost:8080/",
          "height": 1000
        },
        "id": "ply212lRehQ9",
        "outputId": "6319a4d5-d737-4cc6-f121-ae0fc33f0059"
      },
      "outputs": [],
      "source": [
        "import torch.nn as nn\n",
        "import torch.optim as optim\n",
        "\n",
        "from utils.data import get_dataloaders\n",
        "from utils.train import train, test, get_device, set_seed\n",
        "from utils.vis import get_predictions_examples\n",
        "from model.ViT import VisionTransformer"
      ]
    },
    {
      "cell_type": "code",
      "execution_count": 2,
      "metadata": {},
      "outputs": [
        {
          "data": {
            "text/plain": [
              "device(type='mps')"
            ]
          },
          "execution_count": 2,
          "metadata": {},
          "output_type": "execute_result"
        }
      ],
      "source": [
        "get_device()"
      ]
    },
    {
      "cell_type": "code",
      "execution_count": 3,
      "metadata": {},
      "outputs": [
        {
          "data": {
            "text/plain": [
              "42"
            ]
          },
          "execution_count": 3,
          "metadata": {},
          "output_type": "execute_result"
        }
      ],
      "source": [
        "set_seed(42)"
      ]
    },
    {
      "cell_type": "code",
      "execution_count": 4,
      "metadata": {},
      "outputs": [
        {
          "data": {
            "text/plain": [
              "(938, 157)"
            ]
          },
          "execution_count": 4,
          "metadata": {},
          "output_type": "execute_result"
        }
      ],
      "source": [
        "train_loader, test_loader = get_dataloaders(train_loader_batch_size=64, test_loader_batch_size=64)\n",
        "len(train_loader), len(test_loader)"
      ]
    },
    {
      "cell_type": "code",
      "execution_count": 5,
      "metadata": {},
      "outputs": [
        {
          "data": {
            "text/plain": [
              "VisionTransformer(\n",
              "  (patch_embed): PatchEmbedding(\n",
              "    (proj): Conv2d(1, 256, kernel_size=(4, 4), stride=(4, 4))\n",
              "  )\n",
              "  (transformer): TransformerEncoder(\n",
              "    (layers): ModuleList(\n",
              "      (0-3): 4 x TransformerEncoderLayer(\n",
              "        (self_attn): MultiheadAttention(\n",
              "          (out_proj): NonDynamicallyQuantizableLinear(in_features=256, out_features=256, bias=True)\n",
              "        )\n",
              "        (linear1): Linear(in_features=256, out_features=1024, bias=True)\n",
              "        (dropout): Dropout(p=0.1, inplace=False)\n",
              "        (linear2): Linear(in_features=1024, out_features=256, bias=True)\n",
              "        (norm1): LayerNorm((256,), eps=1e-05, elementwise_affine=True)\n",
              "        (norm2): LayerNorm((256,), eps=1e-05, elementwise_affine=True)\n",
              "        (dropout1): Dropout(p=0.1, inplace=False)\n",
              "        (dropout2): Dropout(p=0.1, inplace=False)\n",
              "      )\n",
              "    )\n",
              "  )\n",
              "  (norm): LayerNorm((256,), eps=1e-05, elementwise_affine=True)\n",
              "  (head): Linear(in_features=256, out_features=10, bias=True)\n",
              ")"
            ]
          },
          "execution_count": 5,
          "metadata": {},
          "output_type": "execute_result"
        }
      ],
      "source": [
        "model = VisionTransformer(\n",
        "    img_size=28,\n",
        "    patch_size=4,  # 28x28 images divide the image into 4x4 patches\n",
        "    in_channels=1,\n",
        "    n_classes=10,  # 10 categories\n",
        "    embed_dim=256,\n",
        "    depth=4,  # number of transformer layers\n",
        "    n_heads=8,  # number of attention heads\n",
        "    mlp_ratio=4.0,  # hidden dim ratio\n",
        "    dropout=0.1,  # dropout rate\n",
        ")\n",
        "model"
      ]
    },
    {
      "cell_type": "code",
      "execution_count": 6,
      "metadata": {},
      "outputs": [
        {
          "data": {
            "text/plain": [
              "(CrossEntropyLoss(),\n",
              " Adam (\n",
              " Parameter Group 0\n",
              "     amsgrad: False\n",
              "     betas: (0.9, 0.999)\n",
              "     capturable: False\n",
              "     differentiable: False\n",
              "     eps: 1e-08\n",
              "     foreach: None\n",
              "     fused: None\n",
              "     lr: 0.0001\n",
              "     maximize: False\n",
              "     weight_decay: 0.03\n",
              " ))"
            ]
          },
          "execution_count": 6,
          "metadata": {},
          "output_type": "execute_result"
        }
      ],
      "source": [
        "criterion = nn.CrossEntropyLoss()\n",
        "optimizer = optim.Adam(model.parameters(), lr=0.0001, weight_decay=0.03)\n",
        "criterion, optimizer"
      ]
    },
    {
      "cell_type": "code",
      "execution_count": 7,
      "metadata": {},
      "outputs": [
        {
          "name": "stdout",
          "output_type": "stream",
          "text": [
            "Epoch [1/5], Step [93/938], Loss: 1.9130\n",
            "Epoch [1/5], Step [186/938], Loss: 1.5298\n",
            "Epoch [1/5], Step [279/938], Loss: 1.3556\n",
            "Epoch [1/5], Step [372/938], Loss: 1.2463\n",
            "Epoch [1/5], Step [465/938], Loss: 1.2255\n",
            "Epoch [1/5], Step [558/938], Loss: 1.1817\n",
            "Epoch [1/5], Step [651/938], Loss: 1.1122\n",
            "Epoch [1/5], Step [744/938], Loss: 1.1103\n",
            "Epoch [1/5], Step [837/938], Loss: 1.0502\n",
            "Epoch [1/5], Step [930/938], Loss: 1.0357\n",
            "Epoch [2/5], Step [93/938], Loss: 1.0162\n",
            "Epoch [2/5], Step [186/938], Loss: 0.9620\n",
            "Epoch [2/5], Step [279/938], Loss: 0.9785\n",
            "Epoch [2/5], Step [372/938], Loss: 0.9294\n",
            "Epoch [2/5], Step [465/938], Loss: 0.8933\n",
            "Epoch [2/5], Step [558/938], Loss: 0.9009\n",
            "Epoch [2/5], Step [651/938], Loss: 0.8882\n",
            "Epoch [2/5], Step [744/938], Loss: 0.8658\n",
            "Epoch [2/5], Step [837/938], Loss: 0.8779\n",
            "Epoch [2/5], Step [930/938], Loss: 0.8502\n",
            "Epoch [3/5], Step [93/938], Loss: 0.8545\n",
            "Epoch [3/5], Step [186/938], Loss: 0.8482\n",
            "Epoch [3/5], Step [279/938], Loss: 0.8279\n",
            "Epoch [3/5], Step [372/938], Loss: 0.8374\n",
            "Epoch [3/5], Step [465/938], Loss: 0.8316\n",
            "Epoch [3/5], Step [558/938], Loss: 0.8182\n",
            "Epoch [3/5], Step [651/938], Loss: 0.8144\n",
            "Epoch [3/5], Step [744/938], Loss: 0.8242\n",
            "Epoch [3/5], Step [837/938], Loss: 0.8038\n",
            "Epoch [3/5], Step [930/938], Loss: 0.7904\n",
            "Epoch [4/5], Step [93/938], Loss: 0.7841\n",
            "Epoch [4/5], Step [186/938], Loss: 0.7865\n",
            "Epoch [4/5], Step [279/938], Loss: 0.7781\n",
            "Epoch [4/5], Step [372/938], Loss: 0.7669\n",
            "Epoch [4/5], Step [465/938], Loss: 0.7820\n",
            "Epoch [4/5], Step [558/938], Loss: 0.7549\n",
            "Epoch [4/5], Step [651/938], Loss: 0.7780\n",
            "Epoch [4/5], Step [744/938], Loss: 0.7517\n",
            "Epoch [4/5], Step [837/938], Loss: 0.7735\n",
            "Epoch [4/5], Step [930/938], Loss: 0.7552\n",
            "Epoch [5/5], Step [93/938], Loss: 0.7502\n",
            "Epoch [5/5], Step [186/938], Loss: 0.7607\n",
            "Epoch [5/5], Step [279/938], Loss: 0.7387\n",
            "Epoch [5/5], Step [372/938], Loss: 0.7469\n",
            "Epoch [5/5], Step [465/938], Loss: 0.7203\n",
            "Epoch [5/5], Step [558/938], Loss: 0.7272\n",
            "Epoch [5/5], Step [651/938], Loss: 0.7287\n",
            "Epoch [5/5], Step [744/938], Loss: 0.7428\n",
            "Epoch [5/5], Step [837/938], Loss: 0.7300\n",
            "Epoch [5/5], Step [930/938], Loss: 0.7009\n",
            "Finished Training\n"
          ]
        },
        {
          "data": {
            "text/plain": [
              "(VisionTransformer(\n",
              "   (patch_embed): PatchEmbedding(\n",
              "     (proj): Conv2d(1, 256, kernel_size=(4, 4), stride=(4, 4))\n",
              "   )\n",
              "   (transformer): TransformerEncoder(\n",
              "     (layers): ModuleList(\n",
              "       (0-3): 4 x TransformerEncoderLayer(\n",
              "         (self_attn): MultiheadAttention(\n",
              "           (out_proj): NonDynamicallyQuantizableLinear(in_features=256, out_features=256, bias=True)\n",
              "         )\n",
              "         (linear1): Linear(in_features=256, out_features=1024, bias=True)\n",
              "         (dropout): Dropout(p=0.1, inplace=False)\n",
              "         (linear2): Linear(in_features=1024, out_features=256, bias=True)\n",
              "         (norm1): LayerNorm((256,), eps=1e-05, elementwise_affine=True)\n",
              "         (norm2): LayerNorm((256,), eps=1e-05, elementwise_affine=True)\n",
              "         (dropout1): Dropout(p=0.1, inplace=False)\n",
              "         (dropout2): Dropout(p=0.1, inplace=False)\n",
              "       )\n",
              "     )\n",
              "   )\n",
              "   (norm): LayerNorm((256,), eps=1e-05, elementwise_affine=True)\n",
              "   (head): Linear(in_features=256, out_features=10, bias=True)\n",
              " ),\n",
              " [1.2743276160663124,\n",
              "  0.9159002448958374,\n",
              "  0.8247099609008984,\n",
              "  0.7708635550381532,\n",
              "  0.7347804417551708])"
            ]
          },
          "execution_count": 7,
          "metadata": {},
          "output_type": "execute_result"
        }
      ],
      "source": [
        "train(model, train_loader, criterion, optimizer, epochs=5)"
      ]
    },
    {
      "cell_type": "code",
      "execution_count": 8,
      "metadata": {},
      "outputs": [
        {
          "name": "stdout",
          "output_type": "stream",
          "text": [
            "Accuracy of the network on the 10000 test images: 73.43%\n",
            "Test Loss: 0.6879\n"
          ]
        },
        {
          "data": {
            "text/plain": [
              "(73.43, 0.6878861680531957)"
            ]
          },
          "execution_count": 8,
          "metadata": {},
          "output_type": "execute_result"
        }
      ],
      "source": [
        "test(model, test_loader, criterion)"
      ]
    },
    {
      "cell_type": "code",
      "execution_count": 9,
      "metadata": {},
      "outputs": [
        {
          "data": {
            "image/png": "[encoded data removed]",
            "text/plain": [
              "<Figure size 1200x400 with 6 Axes>"
            ]
          },
          "metadata": {},
          "output_type": "display_data"
        }
      ],
      "source": [
        "get_predictions_examples(model, test_loader)"
      ]
    }
  ],
  "metadata": {
    "accelerator": "GPU",
    "colab": {
      "gpuType": "T4",
      "provenance": []
    },
    "kernelspec": {
      "display_name": ".venv",
      "language": "python",
      "name": "python3"
    },
    "language_info": {
      "codemirror_mode": {
        "name": "ipython",
        "version": 3
      },
      "file_extension": ".py",
      "mimetype": "text/x-python",
      "name": "python",
      "nbconvert_exporter": "python",
      "pygments_lexer": "ipython3",
      "version": "3.13.2"
    }
  },
  "nbformat": 4,
  "nbformat_minor": 0
}
