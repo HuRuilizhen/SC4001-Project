{
  "cells": [
    {
      "cell_type": "code",
      "execution_count": 1,
      "metadata": {
        "colab": {
          "base_uri": "https://localhost:8080/",
          "height": 1000
        },
        "id": "ply212lRehQ9",
        "outputId": "6319a4d5-d737-4cc6-f121-ae0fc33f0059"
      },
      "outputs": [],
      "source": [
        "import torch\n",
        "import torch.nn as nn\n",
        "import torch.optim as optim\n",
        "import matplotlib.pyplot as plt\n",
        "\n",
        "from utils.data import get_dataloaders\n",
        "from utils.train import train, test, get_device\n",
        "from utils.vis import get_predictions_examples\n",
        "from model.ViT import VisionTransformer"
      ]
    },
    {
      "cell_type": "code",
      "execution_count": 2,
      "metadata": {},
      "outputs": [
        {
          "data": {
            "text/plain": [
              "device(type='mps')"
            ]
          },
          "execution_count": 2,
          "metadata": {},
          "output_type": "execute_result"
        }
      ],
      "source": [
        "get_device()"
      ]
    },
    {
      "cell_type": "code",
      "execution_count": 8,
      "metadata": {},
      "outputs": [
        {
          "data": {
            "text/plain": [
              "(938, 157)"
            ]
          },
          "execution_count": 8,
          "metadata": {},
          "output_type": "execute_result"
        }
      ],
      "source": [
        "train_loader, test_loader = get_dataloaders(train_loader_batch_size=64, test_loader_batch_size=64)\n",
        "len(train_loader), len(test_loader)"
      ]
    },
    {
      "cell_type": "code",
      "execution_count": 4,
      "metadata": {},
      "outputs": [
        {
          "data": {
            "text/plain": [
              "VisionTransformer(\n",
              "  (patch_embed): PatchEmbedding(\n",
              "    (proj): Conv2d(1, 256, kernel_size=(4, 4), stride=(4, 4))\n",
              "  )\n",
              "  (transformer): TransformerEncoder(\n",
              "    (layers): ModuleList(\n",
              "      (0-3): 4 x TransformerEncoderLayer(\n",
              "        (self_attn): MultiheadAttention(\n",
              "          (out_proj): NonDynamicallyQuantizableLinear(in_features=256, out_features=256, bias=True)\n",
              "        )\n",
              "        (linear1): Linear(in_features=256, out_features=1024, bias=True)\n",
              "        (dropout): Dropout(p=0.1, inplace=False)\n",
              "        (linear2): Linear(in_features=1024, out_features=256, bias=True)\n",
              "        (norm1): LayerNorm((256,), eps=1e-05, elementwise_affine=True)\n",
              "        (norm2): LayerNorm((256,), eps=1e-05, elementwise_affine=True)\n",
              "        (dropout1): Dropout(p=0.1, inplace=False)\n",
              "        (dropout2): Dropout(p=0.1, inplace=False)\n",
              "      )\n",
              "    )\n",
              "  )\n",
              "  (norm): LayerNorm((256,), eps=1e-05, elementwise_affine=True)\n",
              "  (head): Linear(in_features=256, out_features=10, bias=True)\n",
              ")"
            ]
          },
          "execution_count": 4,
          "metadata": {},
          "output_type": "execute_result"
        }
      ],
      "source": [
        "model = VisionTransformer(\n",
        "    img_size=28,\n",
        "    patch_size=4,  # 28x28 images divide the image into 4x4 patches\n",
        "    in_channels=1,\n",
        "    n_classes=10,  # 10 categories\n",
        "    embed_dim=256,\n",
        "    depth=4,  # number of transformer layers\n",
        "    n_heads=8,  # number of attention heads\n",
        "    mlp_ratio=4.0,  # hidden dim ratio\n",
        "    dropout=0.1,  # dropout rate\n",
        ")\n",
        "model"
      ]
    },
    {
      "cell_type": "code",
      "execution_count": 5,
      "metadata": {},
      "outputs": [
        {
          "data": {
            "text/plain": [
              "(CrossEntropyLoss(),\n",
              " Adam (\n",
              " Parameter Group 0\n",
              "     amsgrad: False\n",
              "     betas: (0.9, 0.999)\n",
              "     capturable: False\n",
              "     differentiable: False\n",
              "     eps: 1e-08\n",
              "     foreach: None\n",
              "     fused: None\n",
              "     lr: 0.0001\n",
              "     maximize: False\n",
              "     weight_decay: 0.03\n",
              " ))"
            ]
          },
          "execution_count": 5,
          "metadata": {},
          "output_type": "execute_result"
        }
      ],
      "source": [
        "criterion = nn.CrossEntropyLoss()\n",
        "optimizer = optim.Adam(model.parameters(), lr=0.0001, weight_decay=0.03)\n",
        "criterion, optimizer"
      ]
    },
    {
      "cell_type": "code",
      "execution_count": 6,
      "metadata": {},
      "outputs": [
        {
          "name": "stdout",
          "output_type": "stream",
          "text": [
            "Epoch [1/5], Step [93/938], Loss: 1.9149\n",
            "Epoch [1/5], Step [186/938], Loss: 1.4345\n",
            "Epoch [1/5], Step [279/938], Loss: 1.2906\n",
            "Epoch [1/5], Step [372/938], Loss: 1.2333\n",
            "Epoch [1/5], Step [465/938], Loss: 1.1807\n",
            "Epoch [1/5], Step [558/938], Loss: 1.1464\n",
            "Epoch [1/5], Step [651/938], Loss: 1.1041\n",
            "Epoch [1/5], Step [744/938], Loss: 1.0592\n",
            "Epoch [1/5], Step [837/938], Loss: 1.0301\n",
            "Epoch [1/5], Step [930/938], Loss: 0.9756\n",
            "Epoch [2/5], Step [93/938], Loss: 0.9809\n",
            "Epoch [2/5], Step [186/938], Loss: 0.9236\n",
            "Epoch [2/5], Step [279/938], Loss: 0.9148\n",
            "Epoch [2/5], Step [372/938], Loss: 0.9024\n",
            "Epoch [2/5], Step [465/938], Loss: 0.8670\n",
            "Epoch [2/5], Step [558/938], Loss: 0.8334\n",
            "Epoch [2/5], Step [651/938], Loss: 0.8317\n",
            "Epoch [2/5], Step [744/938], Loss: 0.8386\n",
            "Epoch [2/5], Step [837/938], Loss: 0.8480\n",
            "Epoch [2/5], Step [930/938], Loss: 0.8376\n",
            "Epoch [3/5], Step [93/938], Loss: 0.8194\n",
            "Epoch [3/5], Step [186/938], Loss: 0.8003\n",
            "Epoch [3/5], Step [279/938], Loss: 0.7719\n",
            "Epoch [3/5], Step [372/938], Loss: 0.7785\n",
            "Epoch [3/5], Step [465/938], Loss: 0.7525\n",
            "Epoch [3/5], Step [558/938], Loss: 0.7741\n",
            "Epoch [3/5], Step [651/938], Loss: 0.7745\n",
            "Epoch [3/5], Step [744/938], Loss: 0.7616\n",
            "Epoch [3/5], Step [837/938], Loss: 0.7602\n",
            "Epoch [3/5], Step [930/938], Loss: 0.7745\n",
            "Epoch [4/5], Step [93/938], Loss: 0.7486\n",
            "Epoch [4/5], Step [186/938], Loss: 0.7446\n",
            "Epoch [4/5], Step [279/938], Loss: 0.7427\n",
            "Epoch [4/5], Step [372/938], Loss: 0.7466\n",
            "Epoch [4/5], Step [465/938], Loss: 0.7270\n",
            "Epoch [4/5], Step [558/938], Loss: 0.7233\n",
            "Epoch [4/5], Step [651/938], Loss: 0.7400\n",
            "Epoch [4/5], Step [744/938], Loss: 0.7485\n",
            "Epoch [4/5], Step [837/938], Loss: 0.7247\n",
            "Epoch [4/5], Step [930/938], Loss: 0.7203\n",
            "Epoch [5/5], Step [93/938], Loss: 0.7122\n",
            "Epoch [5/5], Step [186/938], Loss: 0.7192\n",
            "Epoch [5/5], Step [279/938], Loss: 0.7239\n",
            "Epoch [5/5], Step [372/938], Loss: 0.7175\n",
            "Epoch [5/5], Step [465/938], Loss: 0.7083\n",
            "Epoch [5/5], Step [558/938], Loss: 0.7086\n",
            "Epoch [5/5], Step [651/938], Loss: 0.7456\n",
            "Epoch [5/5], Step [744/938], Loss: 0.6941\n",
            "Epoch [5/5], Step [837/938], Loss: 0.7150\n",
            "Epoch [5/5], Step [930/938], Loss: 0.6853\n",
            "Finished Training\n"
          ]
        },
        {
          "data": {
            "text/plain": [
              "(VisionTransformer(\n",
              "   (patch_embed): PatchEmbedding(\n",
              "     (proj): Conv2d(1, 256, kernel_size=(4, 4), stride=(4, 4))\n",
              "   )\n",
              "   (transformer): TransformerEncoder(\n",
              "     (layers): ModuleList(\n",
              "       (0-3): 4 x TransformerEncoderLayer(\n",
              "         (self_attn): MultiheadAttention(\n",
              "           (out_proj): NonDynamicallyQuantizableLinear(in_features=256, out_features=256, bias=True)\n",
              "         )\n",
              "         (linear1): Linear(in_features=256, out_features=1024, bias=True)\n",
              "         (dropout): Dropout(p=0.1, inplace=False)\n",
              "         (linear2): Linear(in_features=1024, out_features=256, bias=True)\n",
              "         (norm1): LayerNorm((256,), eps=1e-05, elementwise_affine=True)\n",
              "         (norm2): LayerNorm((256,), eps=1e-05, elementwise_affine=True)\n",
              "         (dropout1): Dropout(p=0.1, inplace=False)\n",
              "         (dropout2): Dropout(p=0.1, inplace=False)\n",
              "       )\n",
              "     )\n",
              "   )\n",
              "   (norm): LayerNorm((256,), eps=1e-05, elementwise_affine=True)\n",
              "   (head): Linear(in_features=256, out_features=10, bias=True)\n",
              " ),\n",
              " [1.2344784673088904,\n",
              "  0.8770037700118286,\n",
              "  0.7762530503877952,\n",
              "  0.7367258123052653,\n",
              "  0.7124290250893086])"
            ]
          },
          "execution_count": 6,
          "metadata": {},
          "output_type": "execute_result"
        }
      ],
      "source": [
        "train(model, train_loader, criterion, optimizer, epochs=5)"
      ]
    },
    {
      "cell_type": "code",
      "execution_count": 9,
      "metadata": {},
      "outputs": [
        {
          "name": "stdout",
          "output_type": "stream",
          "text": [
            "Accuracy of the network on the 10000 test images: 77.26%\n",
            "Test Loss: 0.6364\n"
          ]
        },
        {
          "data": {
            "text/plain": [
              "(77.26, 0.6363997542934053)"
            ]
          },
          "execution_count": 9,
          "metadata": {},
          "output_type": "execute_result"
        }
      ],
      "source": [
        "test(model, test_loader, criterion)"
      ]
    },
    {
      "cell_type": "code",
      "execution_count": 10,
      "metadata": {},
      "outputs": [
        {
          "data": {
            "image/png": "[encoded data removed]",
            "text/plain": [
              "<Figure size 1200x400 with 6 Axes>"
            ]
          },
          "metadata": {},
          "output_type": "display_data"
        }
      ],
      "source": [
        "get_predictions_examples(model, test_loader)"
      ]
    }
  ],
  "metadata": {
    "accelerator": "GPU",
    "colab": {
      "gpuType": "T4",
      "provenance": []
    },
    "kernelspec": {
      "display_name": ".venv",
      "language": "python",
      "name": "python3"
    },
    "language_info": {
      "codemirror_mode": {
        "name": "ipython",
        "version": 3
      },
      "file_extension": ".py",
      "mimetype": "text/x-python",
      "name": "python",
      "nbconvert_exporter": "python",
      "pygments_lexer": "ipython3",
      "version": "3.13.2"
    }
  },
  "nbformat": 4,
  "nbformat_minor": 0
}
